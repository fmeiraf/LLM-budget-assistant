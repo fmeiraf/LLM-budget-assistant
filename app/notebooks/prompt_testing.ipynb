{
 "cells": [
  {
   "cell_type": "code",
   "execution_count": 1,
   "metadata": {},
   "outputs": [],
   "source": [
    "import guardrails as gd\n",
    "import openai\n",
    "from rich import print as rprint\n",
    "import tiktoken\n",
    "import dotenv\n",
    "import os\n",
    "import pandas as pd\n",
    "\n",
    "from app.database import Database, db_config\n",
    "\n",
    "from app.guardrails_specs.specs import rail_str\n",
    "\n",
    "dotenv.load_dotenv()\n",
    "OPEN_API_KEY = os.getenv(\"OPENAI_API_KEY\")\n",
    "openai.api_key = OPEN_API_KEY\n"
   ]
  },
  {
   "cell_type": "markdown",
   "metadata": {},
   "source": [
    "## Checking if basic guardrails calls work"
   ]
  },
  {
   "cell_type": "code",
   "execution_count": null,
   "metadata": {},
   "outputs": [],
   "source": [
    "# Create a Guard class\n",
    "guard = gd.Guard.from_rail_string(rail_str)\n",
    "\n",
    "test_transaction = '''\n",
    "Date\n",
    "\t\n",
    "Transaction Description\n",
    "\t\n",
    "Debit\n",
    "\t\n",
    "Credit\n",
    "\tBalance\n",
    "Jul 22, 2023\tAMZ*Sleepsheep Direct\t\t$141.75\t$4,838.90\n",
    "Jul 22, 2023\tFIVE GUYS BURGERS & FR\t$71.12\t\t$4,980.65\n",
    "Jul 22, 2023\tABC*ANYTIME FITNESS\t$28.34\t\t$4,909.53\n",
    "Jul 21, 2023\tRING MULTICAM MTH PLAN\t$15.75\t\t$4,881.19\n",
    "Jul 19, 2023\tDOORDASH*LUNA MEXICAN\t$130.82\t\t$4,865.44\n",
    "Jul 18, 2023\tPAYMENT - THANK YOU\t\t$300.00\t$4,734.62\n",
    "Jul 16, 2023\tSOLARA RESORT AND SPA\t$63.00\t\t$5,034.62\n",
    "Jul 16, 2023\tEDMONTO*3CINTEGRA PARKI\t$87.00\t\t$4,971.62\n",
    "Jul 16, 2023\tAMZN Mktp CA*TU5VJ3VX3\t$16.73\t\t$4,884.62\n",
    "Jul 16, 2023\tAmazon.ca*J29G10HJ3\t$123.90\t\t$4,867.89\n",
    "Jul 16, 2023\tENTERPRISE CANADA C5E2\t$428.22\t\t$4,743.99\n",
    "'''\n",
    "\n",
    "# Wrap openai API call\n",
    "\n",
    "raw_llm_output, guardrail_output = guard(\n",
    "    openai.ChatCompletion.create,\n",
    "    prompt_params={\"transaction_string\": test_transaction},\n",
    "    \n",
    "    model=\"gpt-3.5-turbo\",\n",
    "    max_tokens=2000,\n",
    "    temperature=0.0,\n",
    "    num_reasks=0,\n",
    ")\n",
    "\n",
    "rprint(guardrail_output)\n"
   ]
  },
  {
   "cell_type": "markdown",
   "metadata": {},
   "source": [
    "## Testing with the AI Assistant"
   ]
  },
  {
   "cell_type": "markdown",
   "metadata": {},
   "source": [
    "### Bare bones test"
   ]
  },
  {
   "cell_type": "code",
   "execution_count": null,
   "metadata": {},
   "outputs": [],
   "source": [
    "database = Database(**db_config)\n",
    "\n",
    "test_user_id = 3\n",
    "\n",
    "def convert_transactions_to_dataframe(user_id: int):\n",
    "    transactions = database.get_all_transactions_by_user_id(user_id=user_id)\n",
    "    df = pd.DataFrame(\n",
    "        [\n",
    "            {\n",
    "                \"transaction_id\": transaction.transaction_id,\n",
    "                \"transaction_date\": transaction.transaction_date,\n",
    "                \"transaction_description\": transaction.transaction_description,\n",
    "                \"credit\": transaction.credit,\n",
    "                \"amount\": transaction.debit,\n",
    "                \"account_id\": transaction.account_id,\n",
    "                \"category_id\": transaction.category_id,\n",
    "                \"user_id\": transaction.user_id,\n",
    "                \"category\": category.category_name,\n",
    "            }\n",
    "            for transaction, category in transactions\n",
    "        ]\n",
    "    )\n",
    "\n",
    "    return df\n",
    "\n",
    "# converting transactions to a dataframe\n",
    "df = convert_transactions_to_dataframe(test_user_id)\n",
    "df.head()"
   ]
  },
  {
   "cell_type": "code",
   "execution_count": null,
   "metadata": {},
   "outputs": [],
   "source": [
    "# creating the specs for the guardrails\n",
    "\n",
    "rail_fin = \"\"\"\n",
    "<rail version=\"0.1\">\n",
    "\n",
    "<output>\n",
    "    <object name=\"financial_answer\">\n",
    "        <string name=\"explanation\"/>\n",
    "        <pythoncode\n",
    "            name=\"python_code\"\n",
    "            format=\"bug-free-python\"\n",
    "            on-fail-bug-free-python=\"reask\"\n",
    "        />\n",
    "    </object>\n",
    "</output>\n",
    "\n",
    "<instructions>\n",
    "You are a smart financial assitant that knows how to code in Python. You can provide explanations for your rationale and also provide the code to back it up.\n",
    "\n",
    "@json_suffix_prompt_examples\n",
    "</instructions>\n",
    "\n",
    "\n",
    "<prompt>\n",
    "You have at your disposal a pandas dataframe called `df` that contains the following columns:\n",
    "\n",
    "- transaction_date: The date of the transaction\n",
    "- transaction_description: The description of the transaction\n",
    "- amount: The amount of money debited from the account\n",
    "- category: The category of the transaction. \n",
    "\n",
    "\n",
    "Given the financial question below, provide a list of explanations and possible queries to back you up.\n",
    "\n",
    "Financial Question:\n",
    "{{financial_question}}\n",
    "\n",
    "@complete_json_suffix</prompt>\n",
    "\n",
    "</rail>\n",
    "\"\"\"\n",
    "\n",
    "rail_fin2 = \"\"\"\n",
    "<rail version=\"0.1\">\n",
    "\n",
    "<output>\n",
    "    <object name=\"financial_answer\">\n",
    "        <string name=\"explanation_string\"/>\n",
    "        <pythoncode\n",
    "            name=\"python_code\"\n",
    "            format=\"bug-free-python\"\n",
    "        />\n",
    "    </object>\n",
    "</output>\n",
    "\n",
    "<instructions>\n",
    "You are a smart financial assitant that knows how to code in Python. You can provide explanations for your rationale and also provide the code to back it up.\n",
    "\n",
    "@json_suffix_prompt_examples\n",
    "</instructions>\n",
    "\n",
    "\n",
    "<prompt>\n",
    "You have at your disposal a pandas dataframe called `df` that contains the following columns:\n",
    "\n",
    "- transaction_date: The date of the transaction\n",
    "- transaction_description: The description of the transaction\n",
    "- amount: The amount of money debited from the account\n",
    "- category: The category of the transaction. \n",
    "\n",
    "Generate a list of explanations and the string to be completed in the financial question below. specify what are the variables you need to complete the string.\n",
    "\n",
    "Financial Question:\n",
    "{{financial_question}}\n",
    "\n",
    "@complete_json_suffix</prompt>\n",
    "\n",
    "</rail>\n",
    "\"\"\""
   ]
  },
  {
   "cell_type": "code",
   "execution_count": null,
   "metadata": {},
   "outputs": [],
   "source": [
    "guard = gd.Guard.from_rail_string(rail_fin2)\n",
    "\n",
    "financial_question = \"\"\"\n",
    "How much did I spend on groceries in the last 3 months?\n",
    "\"\"\"\n",
    "\n",
    "raw_llm_response, validated_response = guard(\n",
    "    openai.ChatCompletion.create,\n",
    "    prompt_params={\"financial_question\": financial_question},\n",
    "    model=\"gpt-3.5-turbo\",\n",
    "    max_tokens=3000,\n",
    "    temperature=0,\n",
    ")\n"
   ]
  },
  {
   "cell_type": "code",
   "execution_count": null,
   "metadata": {},
   "outputs": [],
   "source": [
    "rprint(validated_response)"
   ]
  },
  {
   "cell_type": "code",
   "execution_count": null,
   "metadata": {},
   "outputs": [],
   "source": [
    "rprint(raw_llm_response)"
   ]
  },
  {
   "cell_type": "code",
   "execution_count": null,
   "metadata": {},
   "outputs": [],
   "source": [
    "df['transaction_date'] = pd.to_datetime(df['transaction_date'])\n",
    "groceries_df = df[(df['category'] == 'groceries') & (df['transaction_date'] >= pd.Timestamp.now() - pd.DateOffset(months=3))]\n",
    "total_spent = groceries_df['amount'].sum()\n",
    "total_spent"
   ]
  },
  {
   "cell_type": "markdown",
   "metadata": {},
   "source": [
    "### Testing pandas ai"
   ]
  },
  {
   "cell_type": "markdown",
   "metadata": {},
   "source": [
    "#### Random test"
   ]
  },
  {
   "cell_type": "code",
   "execution_count": 2,
   "metadata": {},
   "outputs": [
    {
     "name": "stdout",
     "output_type": "stream",
     "text": [
      "2023-08-13 13:07:22,072 INFO sqlalchemy.engine.Engine select pg_catalog.version()\n",
      "2023-08-13 13:07:22,073 INFO sqlalchemy.engine.Engine [raw sql] {}\n",
      "2023-08-13 13:07:22,077 INFO sqlalchemy.engine.Engine select current_schema()\n",
      "2023-08-13 13:07:22,077 INFO sqlalchemy.engine.Engine [raw sql] {}\n",
      "2023-08-13 13:07:22,080 INFO sqlalchemy.engine.Engine show standard_conforming_strings\n",
      "2023-08-13 13:07:22,080 INFO sqlalchemy.engine.Engine [raw sql] {}\n",
      "2023-08-13 13:07:22,082 INFO sqlalchemy.engine.Engine BEGIN (implicit)\n",
      "2023-08-13 13:07:22,083 INFO sqlalchemy.engine.Engine SELECT llm_finances.transactions.transaction_id AS llm_finances_transactions_transaction_id, llm_finances.transactions.transaction_date AS llm_finances_transactions_transaction_date, llm_finances.transactions.transaction_description AS llm_finances_transactions_transaction_description, llm_finances.transactions.credit AS llm_finances_transactions_credit, llm_finances.transactions.debit AS llm_finances_transactions_debit, llm_finances.transactions.account_id AS llm_finances_transactions_account_id, llm_finances.transactions.category_id AS llm_finances_transactions_category_id, llm_finances.transactions.user_id AS llm_finances_transactions_user_id, llm_finances.categories.category_id AS llm_finances_categories_category_id, llm_finances.categories.user_id AS llm_finances_categories_user_id, llm_finances.categories.category_name AS llm_finances_categories_category_name \n",
      "FROM llm_finances.transactions JOIN llm_finances.categories ON llm_finances.transactions.category_id = llm_finances.categories.category_id \n",
      "WHERE llm_finances.categories.user_id = %(user_id_1)s ORDER BY llm_finances.transactions.transaction_date\n",
      "2023-08-13 13:07:22,084 INFO sqlalchemy.engine.Engine [generated in 0.00030s] {'user_id_1': 3}\n",
      "2023-08-13 13:07:22,109 INFO sqlalchemy.engine.Engine ROLLBACK\n"
     ]
    },
    {
     "name": "stderr",
     "output_type": "stream",
     "text": [
      "/Users/fernandomeira/projects/LLM-budget-assistant/app/database.py:219: SAWarning: relationship 'User.user_accounts' will copy column users.user_id to column accounts.user_id, which conflicts with relationship(s): 'Account.users' (copies users.user_id to accounts.user_id), 'User.accounts' (copies users.user_id to accounts.user_id). If this is not the intention, consider if these relationships should be linked with back_populates, or if viewonly=True should be applied to one or more if they are read-only. For the less common case that foreign key constraints are partially overlapping, the orm.foreign() annotation can be used to isolate the columns that should be written towards.   To silence this warning, add the parameter 'overlaps=\"accounts,users\"' to the 'User.user_accounts' relationship. (Background on this warning at: https://sqlalche.me/e/20/qzyx) (This warning originated from the `configure_mappers()` process, which was invoked automatically in response to a user-initiated operation.)\n",
      "  for transaction, category in session.query(Transaction, Category)\n",
      "/Users/fernandomeira/projects/LLM-budget-assistant/app/database.py:219: SAWarning: relationship 'Account.user' will copy column users.user_id to column accounts.user_id, which conflicts with relationship(s): 'Account.users' (copies users.user_id to accounts.user_id), 'User.accounts' (copies users.user_id to accounts.user_id). If this is not the intention, consider if these relationships should be linked with back_populates, or if viewonly=True should be applied to one or more if they are read-only. For the less common case that foreign key constraints are partially overlapping, the orm.foreign() annotation can be used to isolate the columns that should be written towards.   To silence this warning, add the parameter 'overlaps=\"accounts,users\"' to the 'Account.user' relationship. (Background on this warning at: https://sqlalche.me/e/20/qzyx) (This warning originated from the `configure_mappers()` process, which was invoked automatically in response to a user-initiated operation.)\n",
      "  for transaction, category in session.query(Transaction, Category)\n",
      "/Users/fernandomeira/projects/LLM-budget-assistant/app/database.py:219: SAWarning: relationship 'User.user_categories' will copy column users.user_id to column categories.user_id, which conflicts with relationship(s): 'Category.users' (copies users.user_id to categories.user_id), 'User.categories' (copies users.user_id to categories.user_id). If this is not the intention, consider if these relationships should be linked with back_populates, or if viewonly=True should be applied to one or more if they are read-only. For the less common case that foreign key constraints are partially overlapping, the orm.foreign() annotation can be used to isolate the columns that should be written towards.   To silence this warning, add the parameter 'overlaps=\"categories,users\"' to the 'User.user_categories' relationship. (Background on this warning at: https://sqlalche.me/e/20/qzyx) (This warning originated from the `configure_mappers()` process, which was invoked automatically in response to a user-initiated operation.)\n",
      "  for transaction, category in session.query(Transaction, Category)\n",
      "/Users/fernandomeira/projects/LLM-budget-assistant/app/database.py:219: SAWarning: relationship 'Category.user' will copy column users.user_id to column categories.user_id, which conflicts with relationship(s): 'Category.users' (copies users.user_id to categories.user_id), 'User.categories' (copies users.user_id to categories.user_id). If this is not the intention, consider if these relationships should be linked with back_populates, or if viewonly=True should be applied to one or more if they are read-only. For the less common case that foreign key constraints are partially overlapping, the orm.foreign() annotation can be used to isolate the columns that should be written towards.   To silence this warning, add the parameter 'overlaps=\"categories,users\"' to the 'Category.user' relationship. (Background on this warning at: https://sqlalche.me/e/20/qzyx) (This warning originated from the `configure_mappers()` process, which was invoked automatically in response to a user-initiated operation.)\n",
      "  for transaction, category in session.query(Transaction, Category)\n"
     ]
    },
    {
     "data": {
      "text/html": [
       "<div>\n",
       "<style scoped>\n",
       "    .dataframe tbody tr th:only-of-type {\n",
       "        vertical-align: middle;\n",
       "    }\n",
       "\n",
       "    .dataframe tbody tr th {\n",
       "        vertical-align: top;\n",
       "    }\n",
       "\n",
       "    .dataframe thead th {\n",
       "        text-align: right;\n",
       "    }\n",
       "</style>\n",
       "<table border=\"1\" class=\"dataframe\">\n",
       "  <thead>\n",
       "    <tr style=\"text-align: right;\">\n",
       "      <th></th>\n",
       "      <th>transaction_id</th>\n",
       "      <th>transaction_date</th>\n",
       "      <th>transaction_description</th>\n",
       "      <th>credit</th>\n",
       "      <th>amount</th>\n",
       "      <th>account_id</th>\n",
       "      <th>category_id</th>\n",
       "      <th>user_id</th>\n",
       "      <th>category</th>\n",
       "    </tr>\n",
       "  </thead>\n",
       "  <tbody>\n",
       "    <tr>\n",
       "      <th>0</th>\n",
       "      <td>237</td>\n",
       "      <td>2023-01-01</td>\n",
       "      <td>FIVE GUYS BURGERS &amp; FR, 780-436-9885</td>\n",
       "      <td>0.0</td>\n",
       "      <td>46.66</td>\n",
       "      <td>4</td>\n",
       "      <td>17</td>\n",
       "      <td>3</td>\n",
       "      <td>Takeout</td>\n",
       "    </tr>\n",
       "    <tr>\n",
       "      <th>1</th>\n",
       "      <td>234</td>\n",
       "      <td>2023-01-02</td>\n",
       "      <td>SAVE ON FOODS #6622, EDMONTON</td>\n",
       "      <td>0.0</td>\n",
       "      <td>30.31</td>\n",
       "      <td>4</td>\n",
       "      <td>24</td>\n",
       "      <td>3</td>\n",
       "      <td>Grocery</td>\n",
       "    </tr>\n",
       "    <tr>\n",
       "      <th>2</th>\n",
       "      <td>236</td>\n",
       "      <td>2023-01-02</td>\n",
       "      <td>DOLLARAMA #1101, EDMONTON</td>\n",
       "      <td>0.0</td>\n",
       "      <td>46.28</td>\n",
       "      <td>4</td>\n",
       "      <td>30</td>\n",
       "      <td>3</td>\n",
       "      <td>Home Goods</td>\n",
       "    </tr>\n",
       "    <tr>\n",
       "      <th>3</th>\n",
       "      <td>235</td>\n",
       "      <td>2023-01-02</td>\n",
       "      <td>MCDONALD'S #40413, EDMONTON</td>\n",
       "      <td>0.0</td>\n",
       "      <td>8.38</td>\n",
       "      <td>4</td>\n",
       "      <td>17</td>\n",
       "      <td>3</td>\n",
       "      <td>Takeout</td>\n",
       "    </tr>\n",
       "    <tr>\n",
       "      <th>4</th>\n",
       "      <td>231</td>\n",
       "      <td>2023-01-06</td>\n",
       "      <td>PC EXPRESS 1549, EDMONTON</td>\n",
       "      <td>0.0</td>\n",
       "      <td>97.90</td>\n",
       "      <td>4</td>\n",
       "      <td>24</td>\n",
       "      <td>3</td>\n",
       "      <td>Grocery</td>\n",
       "    </tr>\n",
       "  </tbody>\n",
       "</table>\n",
       "</div>"
      ],
      "text/plain": [
       "   transaction_id transaction_date               transaction_description  \\\n",
       "0             237       2023-01-01  FIVE GUYS BURGERS & FR, 780-436-9885   \n",
       "1             234       2023-01-02         SAVE ON FOODS #6622, EDMONTON   \n",
       "2             236       2023-01-02             DOLLARAMA #1101, EDMONTON   \n",
       "3             235       2023-01-02           MCDONALD'S #40413, EDMONTON   \n",
       "4             231       2023-01-06             PC EXPRESS 1549, EDMONTON   \n",
       "\n",
       "   credit  amount  account_id  category_id  user_id    category  \n",
       "0     0.0   46.66           4           17        3     Takeout  \n",
       "1     0.0   30.31           4           24        3     Grocery  \n",
       "2     0.0   46.28           4           30        3  Home Goods  \n",
       "3     0.0    8.38           4           17        3     Takeout  \n",
       "4     0.0   97.90           4           24        3     Grocery  "
      ]
     },
     "execution_count": 2,
     "metadata": {},
     "output_type": "execute_result"
    }
   ],
   "source": [
    "from pandasai import PandasAI\n",
    "\n",
    "\n",
    "database = Database(**db_config)\n",
    "\n",
    "test_user_id = 3\n",
    "\n",
    "def convert_transactions_to_dataframe(user_id: int):\n",
    "    transactions = database.get_all_transactions_by_user_id(user_id=user_id)\n",
    "    df = pd.DataFrame(\n",
    "        [\n",
    "            {\n",
    "                \"transaction_id\": transaction.transaction_id,\n",
    "                \"transaction_date\": transaction.transaction_date,\n",
    "                \"transaction_description\": transaction.transaction_description,\n",
    "                \"credit\": transaction.credit,\n",
    "                \"amount\": transaction.debit,\n",
    "                \"account_id\": transaction.account_id,\n",
    "                \"category_id\": transaction.category_id,\n",
    "                \"user_id\": transaction.user_id,\n",
    "                \"category\": category.category_name,\n",
    "            }\n",
    "            for transaction, category in transactions\n",
    "        ]\n",
    "    )\n",
    "\n",
    "    return df\n",
    "\n",
    "# converting transactions to a dataframe\n",
    "df = convert_transactions_to_dataframe(test_user_id)\n",
    "df.head()"
   ]
  },
  {
   "cell_type": "code",
   "execution_count": null,
   "metadata": {},
   "outputs": [],
   "source": [
    "from pandasai import PandasAI\n",
    "\n",
    "# Instantiate a LLM\n",
    "from pandasai.llm.openai import OpenAI\n",
    "llm = OpenAI(api_token=OPEN_API_KEY)\n",
    "\n",
    "pandas_ai = PandasAI(llm)\n",
    "rprint(pandas_ai(df, prompt='plot for me my grocery spending monthly'))"
   ]
  },
  {
   "cell_type": "code",
   "execution_count": null,
   "metadata": {},
   "outputs": [],
   "source": [
    "rprint(pandas_ai(df, prompt='Give me some tips on how to save 10% of all my spending monthly'))"
   ]
  },
  {
   "cell_type": "markdown",
   "metadata": {},
   "source": [
    "#### Chaining it with Langchain"
   ]
  },
  {
   "cell_type": "code",
   "execution_count": 2,
   "metadata": {},
   "outputs": [
    {
     "name": "stdout",
     "output_type": "stream",
     "text": [
      "2023-08-14 19:44:14,625 INFO sqlalchemy.engine.Engine select pg_catalog.version()\n",
      "2023-08-14 19:44:14,626 INFO sqlalchemy.engine.Engine [raw sql] {}\n",
      "2023-08-14 19:44:14,630 INFO sqlalchemy.engine.Engine select current_schema()\n",
      "2023-08-14 19:44:14,630 INFO sqlalchemy.engine.Engine [raw sql] {}\n",
      "2023-08-14 19:44:14,633 INFO sqlalchemy.engine.Engine show standard_conforming_strings\n",
      "2023-08-14 19:44:14,633 INFO sqlalchemy.engine.Engine [raw sql] {}\n",
      "2023-08-14 19:44:14,634 INFO sqlalchemy.engine.Engine BEGIN (implicit)\n",
      "2023-08-14 19:44:14,636 INFO sqlalchemy.engine.Engine SELECT llm_finances.transactions.transaction_id AS llm_finances_transactions_transaction_id, llm_finances.transactions.transaction_date AS llm_finances_transactions_transaction_date, llm_finances.transactions.transaction_description AS llm_finances_transactions_transaction_description, llm_finances.transactions.credit AS llm_finances_transactions_credit, llm_finances.transactions.debit AS llm_finances_transactions_debit, llm_finances.transactions.account_id AS llm_finances_transactions_account_id, llm_finances.transactions.category_id AS llm_finances_transactions_category_id, llm_finances.transactions.user_id AS llm_finances_transactions_user_id, llm_finances.categories.category_id AS llm_finances_categories_category_id, llm_finances.categories.user_id AS llm_finances_categories_user_id, llm_finances.categories.category_name AS llm_finances_categories_category_name \n",
      "FROM llm_finances.transactions JOIN llm_finances.categories ON llm_finances.transactions.category_id = llm_finances.categories.category_id \n",
      "WHERE llm_finances.categories.user_id = %(user_id_1)s ORDER BY llm_finances.transactions.transaction_date\n",
      "2023-08-14 19:44:14,636 INFO sqlalchemy.engine.Engine [generated in 0.00028s] {'user_id_1': 3}\n",
      "2023-08-14 19:44:14,660 INFO sqlalchemy.engine.Engine ROLLBACK\n"
     ]
    },
    {
     "name": "stderr",
     "output_type": "stream",
     "text": [
      "/Users/fernandomeira/projects/LLM-budget-assistant/app/database.py:219: SAWarning: relationship 'User.user_accounts' will copy column users.user_id to column accounts.user_id, which conflicts with relationship(s): 'Account.users' (copies users.user_id to accounts.user_id), 'User.accounts' (copies users.user_id to accounts.user_id). If this is not the intention, consider if these relationships should be linked with back_populates, or if viewonly=True should be applied to one or more if they are read-only. For the less common case that foreign key constraints are partially overlapping, the orm.foreign() annotation can be used to isolate the columns that should be written towards.   To silence this warning, add the parameter 'overlaps=\"accounts,users\"' to the 'User.user_accounts' relationship. (Background on this warning at: https://sqlalche.me/e/20/qzyx) (This warning originated from the `configure_mappers()` process, which was invoked automatically in response to a user-initiated operation.)\n",
      "  for transaction, category in session.query(Transaction, Category)\n",
      "/Users/fernandomeira/projects/LLM-budget-assistant/app/database.py:219: SAWarning: relationship 'Account.user' will copy column users.user_id to column accounts.user_id, which conflicts with relationship(s): 'Account.users' (copies users.user_id to accounts.user_id), 'User.accounts' (copies users.user_id to accounts.user_id). If this is not the intention, consider if these relationships should be linked with back_populates, or if viewonly=True should be applied to one or more if they are read-only. For the less common case that foreign key constraints are partially overlapping, the orm.foreign() annotation can be used to isolate the columns that should be written towards.   To silence this warning, add the parameter 'overlaps=\"accounts,users\"' to the 'Account.user' relationship. (Background on this warning at: https://sqlalche.me/e/20/qzyx) (This warning originated from the `configure_mappers()` process, which was invoked automatically in response to a user-initiated operation.)\n",
      "  for transaction, category in session.query(Transaction, Category)\n",
      "/Users/fernandomeira/projects/LLM-budget-assistant/app/database.py:219: SAWarning: relationship 'User.user_categories' will copy column users.user_id to column categories.user_id, which conflicts with relationship(s): 'Category.users' (copies users.user_id to categories.user_id), 'User.categories' (copies users.user_id to categories.user_id). If this is not the intention, consider if these relationships should be linked with back_populates, or if viewonly=True should be applied to one or more if they are read-only. For the less common case that foreign key constraints are partially overlapping, the orm.foreign() annotation can be used to isolate the columns that should be written towards.   To silence this warning, add the parameter 'overlaps=\"categories,users\"' to the 'User.user_categories' relationship. (Background on this warning at: https://sqlalche.me/e/20/qzyx) (This warning originated from the `configure_mappers()` process, which was invoked automatically in response to a user-initiated operation.)\n",
      "  for transaction, category in session.query(Transaction, Category)\n",
      "/Users/fernandomeira/projects/LLM-budget-assistant/app/database.py:219: SAWarning: relationship 'Category.user' will copy column users.user_id to column categories.user_id, which conflicts with relationship(s): 'Category.users' (copies users.user_id to categories.user_id), 'User.categories' (copies users.user_id to categories.user_id). If this is not the intention, consider if these relationships should be linked with back_populates, or if viewonly=True should be applied to one or more if they are read-only. For the less common case that foreign key constraints are partially overlapping, the orm.foreign() annotation can be used to isolate the columns that should be written towards.   To silence this warning, add the parameter 'overlaps=\"categories,users\"' to the 'Category.user' relationship. (Background on this warning at: https://sqlalche.me/e/20/qzyx) (This warning originated from the `configure_mappers()` process, which was invoked automatically in response to a user-initiated operation.)\n",
      "  for transaction, category in session.query(Transaction, Category)\n"
     ]
    }
   ],
   "source": [
    "from pandasai import PandasAI\n",
    "\n",
    "\n",
    "database = Database(**db_config)\n",
    "\n",
    "test_user_id = 3\n",
    "\n",
    "def convert_transactions_to_dataframe(user_id: int):\n",
    "    transactions = database.get_all_transactions_by_user_id(user_id=user_id)\n",
    "    df = pd.DataFrame(\n",
    "        [\n",
    "            {\n",
    "                \"transaction_id\": transaction.transaction_id,\n",
    "                \"transaction_date\": transaction.transaction_date,\n",
    "                \"transaction_description\": transaction.transaction_description,\n",
    "                \"credit\": transaction.credit,\n",
    "                \"amount\": transaction.debit,\n",
    "                \"account_id\": transaction.account_id,\n",
    "                \"category_id\": transaction.category_id,\n",
    "                \"user_id\": transaction.user_id,\n",
    "                \"category\": category.category_name,\n",
    "            }\n",
    "            for transaction, category in transactions\n",
    "        ]\n",
    "    )\n",
    "\n",
    "    return df\n",
    "\n",
    "# converting transactions to a dataframe\n",
    "df = convert_transactions_to_dataframe(test_user_id)\n",
    "\n",
    "\n",
    "from pandasai import PandasAI\n",
    "\n",
    "# Instantiate a LLM\n",
    "from pandasai.llm.openai import OpenAI\n",
    "llm = OpenAI(api_token=OPEN_API_KEY)\n",
    "\n",
    "pandas_ai = PandasAI(llm)\n",
    "# rprint(pandas_ai(df, prompt='plot for me my grocery spending monthly'))"
   ]
  },
  {
   "cell_type": "markdown",
   "metadata": {},
   "source": [
    "#### Using the pandas ai base prompt"
   ]
  },
  {
   "cell_type": "code",
   "execution_count": null,
   "metadata": {},
   "outputs": [],
   "source": [
    "from pandasai.helpers.anonymizer import anonymize_dataframe_head\n",
    "\n",
    "from langchain.chains import LLMChain\n",
    "from langchain.chat_models import ChatOpenAI\n",
    "from langchain.prompts import PromptTemplate\n",
    "from langchain.prompts.chat import (\n",
    "    ChatPromptTemplate,\n",
    "    HumanMessagePromptTemplate,\n",
    ")\n",
    "\n",
    "# generating reference data for the dataframe\n",
    "\n",
    "df_ref = {\n",
    "    'df_head': anonymize_dataframe_head(df),\n",
    "    'num_rows': df.shape[0],\n",
    "    'num_columns': df.shape[1],\n",
    "}\n",
    "\n",
    "\n",
    "# Taking the idea from pandas-ai, we can pass the dataframe data to the first prompt and ask it to generate a generic pandas call\n",
    "\n",
    "initial_prompt = \"\"\"\n",
    "    You are provided with a pandas dataframe (df) with {num_rows} rows and {num_columns} columns.\n",
    "    This is the metadata of the dataframe:\n",
    "    {df_head}.\n",
    "\n",
    "    You will be given a question that needs to be answered with the data above. Generate a JSON object with the following attributes:\n",
    "\n",
    "    - next step: can this be solved with a single pandas call? (yes/no)\n",
    "    - pandas call: if yes, what is the pandas call that solves this question?\n",
    "    - pandas call explanation: if yes, explain how this pandas call solves the question\n",
    "\n",
    "    question: {question}\n",
    "\"\"\"\n",
    "\n",
    "\n",
    "human_message_prompt = HumanMessagePromptTemplate(\n",
    "        prompt=PromptTemplate(\n",
    "            template=initial_prompt,\n",
    "            input_variables=[\"num_rows\", \"num_columns\", \"df_head\", \"question\"],\n",
    "        )\n",
    "    )\n",
    "chat_prompt_template = ChatPromptTemplate.from_messages([human_message_prompt])\n",
    "chat = ChatOpenAI(temperature=0)\n",
    "chain = LLMChain(llm=chat, prompt=chat_prompt_template)\n",
    "print(chain.run(**df_ref, question=\"If I want to spend less, what category should I cut down on? and by how much?\"))\n",
    "\n",
    "\n"
   ]
  },
  {
   "cell_type": "markdown",
   "metadata": {},
   "source": [
    "#### Trying to be more general and make the model think"
   ]
  },
  {
   "cell_type": "code",
   "execution_count": null,
   "metadata": {},
   "outputs": [],
   "source": [
    "from pandasai.helpers.anonymizer import anonymize_dataframe_head\n",
    "\n",
    "from langchain.chains import LLMChain\n",
    "from langchain.chat_models import ChatOpenAI\n",
    "from langchain.prompts import PromptTemplate\n",
    "from langchain.prompts.chat import (\n",
    "    ChatPromptTemplate,\n",
    "    HumanMessagePromptTemplate,\n",
    ")\n",
    "\n",
    "# generating reference data for the dataframe\n",
    "\n",
    "# df_ref = {\n",
    "#     'df_head': anonymize_dataframe_head(df),\n",
    "#     'num_rows': df.shape[0],\n",
    "#     'num_columns': df.shape[1],\n",
    "# }\n",
    "\n",
    "df_ref = {\n",
    "    \"df_columns\" : ', '.join(anonymize_dataframe_head(df).columns),\n",
    "    \"spending_categories\" : ', '.join(df['category'].unique()),\n",
    "}\n",
    "\n",
    "\n",
    "# Taking the idea from pandas-ai, we can pass the dataframe data to the first prompt and ask it to generate a generic pandas call\n",
    "\n",
    "initial_prompt = \"\"\"\n",
    "    You are provided with a set of variables that describe how a person spend their money, the variables are:\n",
    "    \n",
    "    variables: {df_columns}\n",
    "    spending categories: {spending_categories}\n",
    "\n",
    "    You will be given a question that needs to be answered with the variables above. Generate a JSON object with the following attributes:\n",
    "\n",
    "    - information_needed: a description of the information you need to answer the question\n",
    "    - answer: if you have everything you need provide the final answer to the question, if not write False\n",
    "\n",
    "\n",
    "    question: {question}\n",
    "\"\"\"\n",
    "\n",
    "\n",
    "human_message_prompt = HumanMessagePromptTemplate(\n",
    "        prompt=PromptTemplate(\n",
    "            template=initial_prompt,\n",
    "            input_variables=[\"df_columns\", \"spending_categories\", \"question\"],\n",
    "        )\n",
    "    )\n",
    "chat_prompt_template = ChatPromptTemplate.from_messages([human_message_prompt])\n",
    "chat = ChatOpenAI(temperature=0)\n",
    "chain = LLMChain(llm=chat, prompt=chat_prompt_template)\n",
    "print(chain.run(**df_ref, question=\"If I want to spend less, what category should I cut down on? and by how much?\"))\n",
    "\n",
    "\n"
   ]
  },
  {
   "cell_type": "markdown",
   "metadata": {},
   "source": [
    "#### Trying to not use LangChain"
   ]
  },
  {
   "cell_type": "code",
   "execution_count": 58,
   "metadata": {},
   "outputs": [],
   "source": [
    "# creating a simple class to incorporate history\n",
    "# using OpenAI's API\n",
    "from pandasai import PandasAI\n",
    "from pandasai.llm.openai import OpenAI\n",
    "from pandasai.middlewares.base import Middleware\n",
    "import openai\n",
    "import re\n",
    "import json\n",
    "\n",
    "model_instruction = \"You are an expert in responding financial questions. Never provide fake information. Output only valid JSON.\"\n",
    "\n",
    "triage_prompt = \"\"\"\n",
    "You will be given a financial question and the following information:\n",
    "    - dataframe with the following columns: {df_columns}\n",
    "    - spending categories: {spending_categories}\n",
    "\n",
    "\n",
    "Your goal is to analyze this question and provide the following object as output:\n",
    "\n",
    "\n",
    "    is_valid: if the question can be answered by querying the dataframe return True, otherwise False.\n",
    "    question: if is_valid=True, return the question as is, otherwise request the user to rephrase the question.\n",
    "    objective_question: if is_valid=True, outline the question in a way that can be answered by querying the dataframe,\n",
    "    remember to use the columns and spending categories provided to you when needed.\n",
    "    answer: if is_valid=False, provide your a followup answer to help the user rephrase the question, otherwise return None.\n",
    "\n",
    "\n",
    "question: {question}\n",
    "\"\"\"\n",
    "\n",
    "pandas_ai_base_prompt = \"{question}. Besides your answer provide me a plot when appropriate.\"# Provide me with a brief answer using the number from the query. Also, provide a  plot when you judge appropriate.\"\n",
    "\n",
    "class JsonMiddleware(Middleware):\n",
    "    def run(self, code:str):\n",
    "        json = '''{\n",
    "            \"is_valid\": True,\n",
    "        }\n",
    "\n",
    "        '''\n",
    "        return \n",
    "\n",
    "\n",
    "class LLM:\n",
    "    def __init__(self, model:str, model_instruction:str=None, save_chat_history:bool=True):\n",
    "        self.model = model\n",
    "        self.llm = OpenAI(api_token=OPEN_API_KEY)\n",
    "        self.pandas_ai = PandasAI(llm=self.llm, conversational=True, save_charts=True, save_charts_path=\"charts\")\n",
    "        self.chat_history = []\n",
    "        self.save_chat_history = save_chat_history\n",
    "\n",
    "        if model_instruction is None:\n",
    "            self.model_instruction = \"You are a helpful assistant.\"\n",
    "        else:\n",
    "            self.model_instruction = model_instruction\n",
    "        \n",
    "        self.chat_history.append({\"role\": \"system\", \"content\": self.model_instruction})    \n",
    "        \n",
    "\n",
    "    def ask(self, question:str):\n",
    "        self.chat_history.append({\"role\": \"user\", \"content\": question})\n",
    "        response = openai.ChatCompletion.create(\n",
    "            model=self.model,\n",
    "            messages=self.chat_history,\n",
    "            temperature=0\n",
    "        )\n",
    "\n",
    "        if self.save_chat_history:\n",
    "            self.chat_history.append({\"role\": \"system\", \"content\": response['choices'][0]['message']['content']})\n",
    "\n",
    "        return json.loads(response['choices'][0]['message']['content'])\n",
    "\n",
    "    def ask_with_pandasai(self, dataframe: pd.DataFrame, question:str):\n",
    "        text = self.pandas_ai(dataframe, prompt=pandas_ai_base_prompt.format(question=question))\n",
    "        plot_path = self.get_last_plot_created()\n",
    "\n",
    "        if self.save_chat_history:\n",
    "            self.chat_history.append({\"role\": \"system\", \"content\": text})\n",
    "\n",
    "        return text, plot_path\n",
    "    \n",
    "    \n",
    "    def run_triage_prompt(self, dataframe: pd.DataFrame, question:str):\n",
    "        \n",
    "        df_ref = {\n",
    "                    \"df_columns\" : ', '.join(anonymize_dataframe_head(df).columns),\n",
    "                    \"spending_categories\" : ', '.join(df['category'].unique()),\n",
    "                }\n",
    "        \n",
    "        prompt = triage_prompt.format(**df_ref, question=question)\n",
    "\n",
    "        response = self.ask(question=prompt)\n",
    "        print(response)\n",
    "\n",
    "        if response:\n",
    "            if response['is_valid']:\n",
    "                answer, plot_path = self.ask_with_pandasai(dataframe, response['objective_question'])\n",
    "                return {\n",
    "                    \"is_valid\": True,\n",
    "                    \"question\": question,\n",
    "                    \"answer\": answer,\n",
    "                    \"plot_path\": plot_path\n",
    "                }\n",
    "            else:\n",
    "                return {\n",
    "                    \"is_valid\": False,\n",
    "                    \"question\": question,\n",
    "                    \"answer\": response['answer'],\n",
    "                    \"plot_path\": None\n",
    "                }\n",
    "        else:\n",
    "            raise ValueError(\"LLM answer does not evaluate into valid object\")\n",
    "    \n",
    "    def chat(self, dataframe: pd.DataFrame, question:str):\n",
    "        response = self.run_triage_prompt(dataframe, question)\n",
    "        return response\n",
    "\n",
    "    def extract_plot_path_from_call(self, code_call:str):\n",
    "        match = re.search(r\"savefig\\('(.*?)'\\)\", code_call)\n",
    "        if match:\n",
    "            return match.group(1) \n",
    "        else:\n",
    "            return None\n",
    "\n",
    "    def get_last_plot_created(self):\n",
    "        last_plot_path = self.extract_plot_path_from_call(self.pandas_ai.last_code_executed)\n",
    "        return last_plot_path\n",
    "\n"
   ]
  },
  {
   "cell_type": "code",
   "execution_count": 60,
   "metadata": {},
   "outputs": [
    {
     "name": "stdout",
     "output_type": "stream",
     "text": [
      "{'is_valid': True, 'question': 'How much did I spend buying food in general?', 'objective_question': \"What is the total amount spent on transactions with the category 'Grocery' or 'Takeout'?\", 'answer': None}\n",
      "Charts saving to: charts/exports/charts/336a12a7-b21d-4363-b654-298d2f95ef78\n"
     ]
    },
    {
     "data": {
      "text/plain": [
       "{'is_valid': True,\n",
       " 'question': 'How much did I spend buying food in general?',\n",
       " 'answer': \"The total amount spent on transactions with the category 'Grocery' or 'Takeout' is $6983.79.\",\n",
       " 'plot_path': 'charts/exports/charts/336a12a7-b21d-4363-b654-298d2f95ef78/chart.png'}"
      ]
     },
     "execution_count": 60,
     "metadata": {},
     "output_type": "execute_result"
    },
    {
     "data": {
      "image/png": "[encoded data removed]",
      "text/plain": [
       "<Figure size 640x480 with 1 Axes>"
      ]
     },
     "metadata": {},
     "output_type": "display_data"
    }
   ],
   "source": [
    "llm = LLM(model=\"gpt-3.5-turbo\", model_instruction=model_instruction)\n",
    "\n",
    "llm.chat(df, question=\"How much did I spend buying food in general?\")"
   ]
  },
  {
   "cell_type": "code",
   "execution_count": 24,
   "metadata": {},
   "outputs": [
    {
     "ename": "KeyError",
     "evalue": "'choices'",
     "output_type": "error",
     "traceback": [
      "\u001b[0;31m---------------------------------------------------------------------------\u001b[0m",
      "\u001b[0;31mKeyError\u001b[0m                                  Traceback (most recent call last)",
      "Cell \u001b[0;32mIn[24], line 31\u001b[0m\n\u001b[1;32m     26\u001b[0m model_instruction \u001b[39m=\u001b[39m \u001b[39m\"\u001b[39m\u001b[39mYou are an expert in responding financial questions. Never provide fake information. Output only valid JSON.\u001b[39m\u001b[39m\"\u001b[39m\n\u001b[1;32m     29\u001b[0m llm \u001b[39m=\u001b[39m LLM(model\u001b[39m=\u001b[39m\u001b[39m\"\u001b[39m\u001b[39mgpt-3.5-turbo\u001b[39m\u001b[39m\"\u001b[39m, model_instruction\u001b[39m=\u001b[39mmodel_instruction)\n\u001b[0;32m---> 31\u001b[0m rprint(llm\u001b[39m.\u001b[39;49mask(question\u001b[39m=\u001b[39;49minitial_prompt\u001b[39m.\u001b[39;49mformat(\u001b[39m*\u001b[39;49m\u001b[39m*\u001b[39;49mdf_ref, question\u001b[39m=\u001b[39;49m\u001b[39m\"\u001b[39;49m\u001b[39mHow can I save 10\u001b[39;49m\u001b[39m% e\u001b[39;49;00m\u001b[39mvery month?\u001b[39;49m\u001b[39m\"\u001b[39;49m))[\u001b[39m'\u001b[39;49m\u001b[39mchoices\u001b[39;49m\u001b[39m'\u001b[39;49m][\u001b[39m0\u001b[39m][\u001b[39m'\u001b[39m\u001b[39mmessage\u001b[39m\u001b[39m'\u001b[39m][\u001b[39m'\u001b[39m\u001b[39mcontent\u001b[39m\u001b[39m'\u001b[39m])\n",
      "\u001b[0;31mKeyError\u001b[0m: 'choices'"
     ]
    }
   ],
   "source": [
    "from pandasai.helpers.anonymizer import anonymize_dataframe_head\n",
    "\n",
    "df_ref = {\n",
    "    \"df_columns\" : ', '.join(anonymize_dataframe_head(df).columns),\n",
    "    # \"spending_categories\" : ', '.join(df['category'].unique()),\n",
    "}\n",
    "\n",
    "\n",
    "# Taking the idea from pandas-ai, we can pass the dataframe data to the first prompt and ask it to generate a generic pandas call\n",
    "\n",
    "initial_prompt = \"\"\"\n",
    "    You will be given a financial question and a dataframe with the following columns: {df_columns}\n",
    "\n",
    "    Your goal is to analyze this question and provide the following object as output:\n",
    "\n",
    "   \n",
    "        is_valid: if the question can be answered by querying the dataframe return True, otherwise False.\n",
    "        question: if is_valid=True, return the question as is, otherwise request the user to rephrase the question.\n",
    "        objective_question: if is_valid=True, convert the question into a clear outline of what the user wants to know.\n",
    "        answer: if is_valid=False, provide your a followup answer to help the user rephrase the question, otherwise return None.\n",
    "\n",
    "\n",
    "    question: {question}\n",
    "\"\"\"\n",
    "\n",
    "model_instruction = \"You are an expert in responding financial questions. Never provide fake information. Output only valid JSON.\"\n",
    "\n",
    "\n",
    "llm = LLM(model=\"gpt-3.5-turbo\", model_instruction=model_instruction)\n",
    "\n",
    "rprint(llm.ask(question=initial_prompt.format(**df_ref, question=\"How can I save 10% every month?\"))['choices'][0]['message']['content'])\n"
   ]
  },
  {
   "cell_type": "code",
   "execution_count": 41,
   "metadata": {},
   "outputs": [
    {
     "data": {
      "image/png": "[encoded data removed]",
      "text/plain": [
       "<Figure size 1000x600 with 1 Axes>"
      ]
     },
     "metadata": {},
     "output_type": "display_data"
    },
    {
     "name": "stdout",
     "output_type": "stream",
     "text": [
      "Charts saving to: charts/exports/charts/a9ab451f-afdb-4080-9a14-fae4413708b3\n",
      "(\"I'm sorry, but I don't have access to any specific data or information about how much we spent on food.\", 'charts/exports/charts/a9ab451f-afdb-4080-9a14-fae4413708b3/chart.png')\n"
     ]
    }
   ],
   "source": [
    "print(llm.ask_with_pandasai(df, question='How much did we spend on food? '))"
   ]
  },
  {
   "cell_type": "code",
   "execution_count": 97,
   "metadata": {},
   "outputs": [
    {
     "data": {
      "image/png": "[encoded data removed]",
      "text/plain": [
       "<Figure size 640x480 with 1 Axes>"
      ]
     },
     "metadata": {},
     "output_type": "display_data"
    },
    {
     "name": "stdout",
     "output_type": "stream",
     "text": [
      "Charts saving to: charts/exports/charts/9359a0b1-52f0-40ec-9e6a-9b12db6aec51\n"
     ]
    },
    {
     "data": {
      "text/plain": [
       "str"
      ]
     },
     "execution_count": 97,
     "metadata": {},
     "output_type": "execute_result"
    }
   ],
   "source": [
    "x = llm.ask_with_pandasai(df, question='What is the average total value spent in groceries every month? Please provide me a text and a plot.')\n",
    "\n",
    "type(x)"
   ]
  },
  {
   "cell_type": "markdown",
   "metadata": {},
   "source": [
    "Need to:\n",
    "\n",
    "- connect multiple calls for llm asks, including pandas ai calls\n",
    "- connect to the app"
   ]
  },
  {
   "cell_type": "code",
   "execution_count": null,
   "metadata": {},
   "outputs": [],
   "source": []
  },
  {
   "cell_type": "code",
   "execution_count": null,
   "metadata": {},
   "outputs": [],
   "source": []
  },
  {
   "cell_type": "code",
   "execution_count": null,
   "metadata": {},
   "outputs": [],
   "source": []
  },
  {
   "cell_type": "code",
   "execution_count": null,
   "metadata": {},
   "outputs": [],
   "source": []
  },
  {
   "cell_type": "code",
   "execution_count": null,
   "metadata": {},
   "outputs": [],
   "source": []
  }
 ],
 "metadata": {
  "kernelspec": {
   "display_name": "llm_budget",
   "language": "python",
   "name": "python3"
  },
  "language_info": {
   "codemirror_mode": {
    "name": "ipython",
    "version": 3
   },
   "file_extension": ".py",
   "mimetype": "text/x-python",
   "name": "python",
   "nbconvert_exporter": "python",
   "pygments_lexer": "ipython3",
   "version": "3.11.4"
  },
  "orig_nbformat": 4
 },
 "nbformat": 4,
 "nbformat_minor": 2
}
