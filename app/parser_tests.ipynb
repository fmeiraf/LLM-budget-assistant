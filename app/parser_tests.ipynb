{
 "cells": [
  {
   "cell_type": "code",
   "execution_count": 1,
   "metadata": {},
   "outputs": [],
   "source": [
    "import guardrails as gd\n",
    "import openai\n",
    "from rich import print as rprint\n",
    "import tiktoken\n",
    "import dotenv\n",
    "import os\n",
    "import pandas as pd\n",
    "\n",
    "from app.database import Database, db_config\n",
    "\n",
    "from app.guardrails_specs.specs import rail_str\n",
    "\n",
    "dotenv.load_dotenv()\n",
    "OPEN_API_KEY = os.getenv(\"OPENAI_API_KEY\")\n",
    "openai.api_key = OPEN_API_KEY\n"
   ]
  },
  {
   "cell_type": "markdown",
   "metadata": {},
   "source": [
    "## Testing execution times"
   ]
  },
  {
   "cell_type": "code",
   "execution_count": 2,
   "metadata": {},
   "outputs": [],
   "source": [
    "from app.transaction_parser import TransactionParser\n",
    "\n",
    "test_str = '''Jul 22, 2023\tAMZ*Sleepsheep Direct\t\t$141.75\t$4,838.90\n",
    "Jul 22, 2023\tFIVE GUYS BURGERS & FR\t$71.12\t\t$4,980.65\n",
    "Jul 22, 2023\tABC*ANYTIME FITNESS\t$28.34\t\t$4,909.53\n",
    "Jul 21, 2023\tRING MULTICAM MTH PLAN\t$15.75\t\t$4,881.19\n",
    "Jul 19, 2023\tDOORDASH*LUNA MEXICAN\t$130.82\t\t$4,865.44\n",
    "Jul 15, 2023\tAMZN Mktp CA*F307K57V3\t$39.86\t\t$4,315.77\n",
    "Jul 14, 2023\tAMZN Mktp CA*WV57D4SK3\t$33.59\t\t$4,275.91\n",
    "Jul 13, 2023\tadidas 2021 Edmonton\t$90.32\t\t$3,242.59\n",
    "Jul 12, 2023\tNIKE CANADA - EDMONTON\t$580.71\t\t$3,152.27\n",
    "Jul 12, 2023\tGAP OUTLET CA 8893\t$172.73\t\t$2,571.56\n",
    "Jul 10, 2023\tAPPLE STORE #R411\t$10.00\t\t$2,398.83'''\n",
    "\n",
    "tp = TransactionParser(transaction_string=test_str)\n"
   ]
  },
  {
   "cell_type": "markdown",
   "metadata": {},
   "source": [
    "### Parsing transactions"
   ]
  },
  {
   "cell_type": "code",
   "execution_count": 3,
   "metadata": {},
   "outputs": [
    {
     "name": "stdout",
     "output_type": "stream",
     "text": [
      "1 [('Jul 22, 2023\\tAMZ*Sleepsheep Direct\\t\\t$141.75\\t$4,838.90\\nJul 22, 2023\\tFIVE GUYS BURGERS & FR\\t$71.12\\t\\t$4,980.65\\nJul 22, 2023\\tABC*ANYTIME FITNESS\\t$28.34\\t\\t$4,909.53\\nJul 21, 2023\\tRING MULTICAM MTH PLAN\\t$15.75\\t\\t$4,881.19\\nJul 19, 2023\\tDOORDASH*LUNA MEXICAN\\t$130.82\\t\\t$4,865.44\\nJul 15, 2023\\tAMZN Mktp CA*F307K57V3\\t$39.86\\t\\t$4,315.77\\nJul 14, 2023\\tAMZN Mktp CA*WV57D4SK3\\t$33.59\\t\\t$4,275.91\\nJul 13, 2023\\tadidas 2021 Edmonton\\t$90.32\\t\\t$3,242.59\\nJul 12, 2023\\tNIKE CANADA - EDMONTON\\t$580.71\\t\\t$3,152.27\\nJul 12, 2023\\tGAP OUTLET CA 8893\\t$172.73\\t\\t$2,571.56\\nJul 10, 2023\\tAPPLE STORE #R411\\t$10.00\\t\\t$2,398.83', 1458)]\n"
     ]
    },
    {
     "name": "stderr",
     "output_type": "stream",
     "text": [
      "/Users/fernandomeira/miniforge3/envs/llm_fin/lib/python3.11/site-packages/eliot/json.py:22: FutureWarning: In the future `np.bool` will be defined as the corresponding NumPy scalar.\n",
      "  if isinstance(o, (numpy.bool, numpy.bool_)):\n"
     ]
    },
    {
     "name": "stdout",
     "output_type": "stream",
     "text": [
      "CPU times: user 174 ms, sys: 20.9 ms, total: 195 ms\n",
      "Wall time: 37.9 s\n"
     ]
    }
   ],
   "source": [
    "%%time\n",
    "\n",
    "parsed_transactions = tp.parse_transactions()"
   ]
  },
  {
   "cell_type": "code",
   "execution_count": null,
   "metadata": {},
   "outputs": [],
   "source": [
    "#testing the split function\n",
    "\n",
    "split_input = tp.token_validator.process(input=tp.transaction_string)\n",
    "\n",
    "print(len(split_input))\n",
    "\n",
    "split_input"
   ]
  },
  {
   "cell_type": "code",
   "execution_count": null,
   "metadata": {},
   "outputs": [],
   "source": [
    "#testing the split function\n",
    "\n",
    "split_input = tp.token_validator.process(input=tp.transaction_string)\n",
    "\n",
    "print(len(split_input))\n",
    "\n",
    "split_input"
   ]
  },
  {
   "cell_type": "code",
   "execution_count": null,
   "metadata": {},
   "outputs": [],
   "source": [
    "tp.token_validator.get_token_count(input=tp.transaction_string)"
   ]
  },
  {
   "cell_type": "code",
   "execution_count": null,
   "metadata": {},
   "outputs": [],
   "source": [
    "tp.token_validator.base_prompt_tokens"
   ]
  },
  {
   "cell_type": "code",
   "execution_count": null,
   "metadata": {},
   "outputs": [],
   "source": [
    "import guardrails as gd\n",
    "from guardrails_specs.specs import rail_str\n",
    "\n",
    "guard = gd.Guard.from_rail_string(rail_str)\n",
    "\n",
    "new_llm_call_all = tp.get_guard_chat_completion(input=tp.transaction_string, guard=guard, token_number=2000)\n",
    "\n",
    "rprint(tp.last_raw_response_from_guard_completion)"
   ]
  },
  {
   "cell_type": "code",
   "execution_count": null,
   "metadata": {},
   "outputs": [],
   "source": [
    "tp.token_validator.get_token_count(input=tp.last_raw_response_from_guard_completion)"
   ]
  },
  {
   "cell_type": "code",
   "execution_count": null,
   "metadata": {},
   "outputs": [],
   "source": [
    "tp.get_chat_completion(prompt=guard.prompt.format(**{'transaction_string': test_str}).source)\n",
    "rprint(tp.last_response_chat_completion)"
   ]
  },
  {
   "cell_type": "markdown",
   "metadata": {},
   "source": [
    "### Generating transactions categories"
   ]
  },
  {
   "cell_type": "code",
   "execution_count": null,
   "metadata": {},
   "outputs": [],
   "source": [
    "%%time\n",
    "cats = tp.generate_transaction_categories()\n"
   ]
  },
  {
   "cell_type": "markdown",
   "metadata": {},
   "source": [
    "### Clustering transactions names"
   ]
  },
  {
   "cell_type": "code",
   "execution_count": null,
   "metadata": {},
   "outputs": [],
   "source": [
    "%%time\n",
    "new_trans = tp.get_transaction_names(new_transactions=pd.DataFrame(parsed_transactions), older_transactions=pd.DataFrame())"
   ]
  },
  {
   "cell_type": "code",
   "execution_count": null,
   "metadata": {},
   "outputs": [],
   "source": []
  },
  {
   "cell_type": "code",
   "execution_count": null,
   "metadata": {},
   "outputs": [],
   "source": []
  },
  {
   "cell_type": "code",
   "execution_count": null,
   "metadata": {},
   "outputs": [],
   "source": []
  },
  {
   "cell_type": "code",
   "execution_count": null,
   "metadata": {},
   "outputs": [],
   "source": []
  }
 ],
 "metadata": {
  "kernelspec": {
   "display_name": "Python 3",
   "language": "python",
   "name": "python3"
  },
  "language_info": {
   "codemirror_mode": {
    "name": "ipython",
    "version": 3
   },
   "file_extension": ".py",
   "mimetype": "text/x-python",
   "name": "python",
   "nbconvert_exporter": "python",
   "pygments_lexer": "ipython3",
   "version": "3.11.4"
  },
  "orig_nbformat": 4
 },
 "nbformat": 4,
 "nbformat_minor": 2
}
