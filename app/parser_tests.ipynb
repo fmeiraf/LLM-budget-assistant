{
 "cells": [
  {
   "cell_type": "code",
   "execution_count": 1,
   "metadata": {},
   "outputs": [],
   "source": [
    "import guardrails as gd\n",
    "import openai\n",
    "from rich import print as rprint\n",
    "import tiktoken\n",
    "import dotenv\n",
    "import os\n",
    "import pandas as pd\n",
    "\n",
    "from app.database import Database, db_config\n",
    "\n",
    "from app.guardrails_specs.specs import rail_str\n",
    "\n",
    "dotenv.load_dotenv()\n",
    "OPEN_API_KEY = os.getenv(\"OPENAI_API_KEY\")\n",
    "openai.api_key = OPEN_API_KEY\n"
   ]
  },
  {
   "cell_type": "markdown",
   "metadata": {},
   "source": [
    "## Testing execution times"
   ]
  },
  {
   "cell_type": "code",
   "execution_count": 2,
   "metadata": {},
   "outputs": [],
   "source": [
    "from app.transaction_parser import TransactionParser\n",
    "\n",
    "test_str = '''Jul 22, 2023\tAMZ*Sleepsheep Direct\t\t$141.75\t$4,838.90\n",
    "Jul 22, 2023\tFIVE GUYS BURGERS & FR\t$71.12\t\t$4,980.65\n",
    "Jul 22, 2023\tABC*ANYTIME FITNESS\t$28.34\t\t$4,909.53\n",
    "Jul 21, 2023\tRING MULTICAM MTH PLAN\t$15.75\t\t$4,881.19\n",
    "Jul 19, 2023\tDOORDASH*LUNA MEXICAN\t$130.82\t\t$4,865.44\n",
    "Jul 15, 2023\tAMZN Mktp CA*F307K57V3\t$39.86\t\t$4,315.77\n",
    "Jul 14, 2023\tAMZN Mktp CA*WV57D4SK3\t$33.59\t\t$4,275.91\n",
    "Jul 13, 2023\tadidas 2021 Edmonton\t$90.32\t\t$3,242.59\n",
    "Jul 12, 2023\tNIKE CANADA - EDMONTON\t$580.71\t\t$3,152.27\n",
    "Jul 12, 2023\tGAP OUTLET CA 8893\t$172.73\t\t$2,571.56\n",
    "Jul 10, 2023\tAPPLE STORE #R411\t$10.00\t\t$2,398.83'''\n",
    "\n",
    "tp = TransactionParser(transaction_string=test_str)\n"
   ]
  },
  {
   "cell_type": "markdown",
   "metadata": {},
   "source": [
    "### Parsing transactions"
   ]
  },
  {
   "cell_type": "code",
   "execution_count": 3,
   "metadata": {},
   "outputs": [
    {
     "name": "stderr",
     "output_type": "stream",
     "text": [
      "/Users/fernandomeira/miniforge3/envs/llm_fin/lib/python3.11/site-packages/eliot/json.py:22: FutureWarning: In the future `np.bool` will be defined as the corresponding NumPy scalar.\n",
      "  if isinstance(o, (numpy.bool, numpy.bool_)):\n"
     ]
    },
    {
     "name": "stdout",
     "output_type": "stream",
     "text": [
      "CPU times: user 171 ms, sys: 15.2 ms, total: 186 ms\n",
      "Wall time: 33.8 s\n"
     ]
    }
   ],
   "source": [
    "%%time\n",
    "\n",
    "parsed_transactions = tp.parse_transactions()"
   ]
  },
  {
   "cell_type": "code",
   "execution_count": 4,
   "metadata": {},
   "outputs": [
    {
     "name": "stdout",
     "output_type": "stream",
     "text": [
      "2\n"
     ]
    },
    {
     "data": {
      "text/plain": [
       "[('Jul 22, 2023\\tAMZ*Sleepsheep Direct\\t\\t$141.75\\t$4,838.90\\nJul 22, 2023\\tFIVE GUYS BURGERS & FR\\t$71.12\\t\\t$4,980.65\\nJul 22, 2023\\tABC*ANYTIME FITNESS\\t$28.34\\t\\t$4,909.53\\nJul 21, 2023\\tRING MULTICAM MTH PLAN\\t$15.75\\t\\t$4,881.19\\nJul 19, 2023\\tDOORDASH*LUNA MEXICAN\\t$130.82\\t\\t$4,865.44\\nJul 15, 2023\\tAMZN Mktp CA*F307K57V3\\t$39.86\\t\\t$4,315.77\\nJul 14, 2023\\tAMZN Mktp CA*WV57D4SK3\\t$33.59\\t\\t$4,275.91\\nJul 13, 2023\\tadidas 2021 Edmonton\\t$90.32\\t\\t$3,242.59\\nJul 12, 2023\\tNIKE CANADA - EDMONTON\\t$580.71\\t\\t$3,152.27\\nJul 12, 2023\\tGAP OUTLET CA 8893\\t$172.73\\t\\t$2,571.56\\nJul 10, 2023\\tAPPLE STORE #R411\\t$10.00\\t\\t$2,398.83',\n",
       "  1784),\n",
       " ('Jul 22, 2023\\tAMZ*Sleepsheep Direct\\t\\t$141.75\\t$4,838.90\\nJul 22, 2023\\tFIVE GUYS BURGERS & FR\\t$71.12\\t\\t$4,980.65\\nJul 22, 2023\\tABC*ANYTIME FITNESS\\t$28.34\\t\\t$4,909.53\\nJul 21, 2023\\tRING MULTICAM MTH PLAN\\t$15.75\\t\\t$4,881.19\\nJul 19, 2023\\tDOORDASH*LUNA MEXICAN\\t$130.82\\t\\t$4,865.44\\nJul 15, 2023\\tAMZN Mktp CA*F307K57V3\\t$39.86\\t\\t$4,315.77\\nJul 14, 2023\\tAMZN Mktp CA*WV57D4SK3\\t$33.59\\t\\t$4,275.91\\nJul 13, 2023\\tadidas 2021 Edmonton\\t$90.32\\t\\t$3,242.59\\nJul 12, 2023\\tNIKE CANADA - EDMONTON\\t$580.71\\t\\t$3,152.27\\nJul 12, 2023\\tGAP OUTLET CA 8893\\t$172.73\\t\\t$2,571.56\\nJul 10, 2023\\tAPPLE STORE #R411\\t$10.00\\t\\t$2,398.83',\n",
       "  1784)]"
      ]
     },
     "execution_count": 4,
     "metadata": {},
     "output_type": "execute_result"
    }
   ],
   "source": [
    "#testing the split function\n",
    "\n",
    "split_input = tp.token_validator.process(input=tp.transaction_string)\n",
    "\n",
    "print(len(split_input))\n",
    "\n",
    "split_input"
   ]
  },
  {
   "cell_type": "code",
   "execution_count": 5,
   "metadata": {},
   "outputs": [
    {
     "data": {
      "text/plain": [
       "326"
      ]
     },
     "execution_count": 5,
     "metadata": {},
     "output_type": "execute_result"
    }
   ],
   "source": [
    "tp.token_validator.get_token_count(input=tp.transaction_string)"
   ]
  },
  {
   "cell_type": "code",
   "execution_count": 6,
   "metadata": {},
   "outputs": [
    {
     "data": {
      "text/plain": [
       "403"
      ]
     },
     "execution_count": 6,
     "metadata": {},
     "output_type": "execute_result"
    }
   ],
   "source": [
    "tp.token_validator.base_prompt_tokens"
   ]
  },
  {
   "cell_type": "code",
   "execution_count": null,
   "metadata": {},
   "outputs": [],
   "source": [
    "new_llm_call_all"
   ]
  },
  {
   "cell_type": "code",
   "execution_count": 8,
   "metadata": {},
   "outputs": [
    {
     "name": "stderr",
     "output_type": "stream",
     "text": [
      "/Users/fernandomeira/miniforge3/envs/llm_fin/lib/python3.11/site-packages/eliot/json.py:22: FutureWarning: In the future `np.bool` will be defined as the corresponding NumPy scalar.\n",
      "  if isinstance(o, (numpy.bool, numpy.bool_)):\n"
     ]
    },
    {
     "data": {
      "text/html": [
       "<pre style=\"white-space:pre;overflow-x:auto;line-height:normal;font-family:Menlo,'DejaVu Sans Mono',consolas,'Courier New',monospace\"><span style=\"font-weight: bold\">{</span>\n",
       "  <span style=\"color: #008000; text-decoration-color: #008000\">\"transaction_list\"</span>: <span style=\"font-weight: bold\">[</span>\n",
       "    <span style=\"font-weight: bold\">{</span>\n",
       "      <span style=\"color: #008000; text-decoration-color: #008000\">\"transaction_info\"</span>: <span style=\"font-weight: bold\">{</span>\n",
       "        <span style=\"color: #008000; text-decoration-color: #008000\">\"transaction_date\"</span>: <span style=\"color: #008000; text-decoration-color: #008000\">\"2023-07-22\"</span>,\n",
       "        <span style=\"color: #008000; text-decoration-color: #008000\">\"transaction_description\"</span>: <span style=\"color: #008000; text-decoration-color: #008000\">\"AMZ*Sleepsheep Direct\"</span>,\n",
       "        <span style=\"color: #008000; text-decoration-color: #008000\">\"debit\"</span>: <span style=\"color: #008080; text-decoration-color: #008080; font-weight: bold\">141.75</span>,\n",
       "        <span style=\"color: #008000; text-decoration-color: #008000\">\"credit\"</span>: <span style=\"color: #008080; text-decoration-color: #008080; font-weight: bold\">0</span>,\n",
       "        <span style=\"color: #008000; text-decoration-color: #008000\">\"balance\"</span>: <span style=\"color: #008080; text-decoration-color: #008080; font-weight: bold\">4838.9</span>\n",
       "      <span style=\"font-weight: bold\">}</span>\n",
       "    <span style=\"font-weight: bold\">}</span>,\n",
       "    <span style=\"font-weight: bold\">{</span>\n",
       "      <span style=\"color: #008000; text-decoration-color: #008000\">\"transaction_info\"</span>: <span style=\"font-weight: bold\">{</span>\n",
       "        <span style=\"color: #008000; text-decoration-color: #008000\">\"transaction_date\"</span>: <span style=\"color: #008000; text-decoration-color: #008000\">\"2023-07-22\"</span>,\n",
       "        <span style=\"color: #008000; text-decoration-color: #008000\">\"transaction_description\"</span>: <span style=\"color: #008000; text-decoration-color: #008000\">\"FIVE GUYS BURGERS &amp; FR\"</span>,\n",
       "        <span style=\"color: #008000; text-decoration-color: #008000\">\"debit\"</span>: <span style=\"color: #008080; text-decoration-color: #008080; font-weight: bold\">71.12</span>,\n",
       "        <span style=\"color: #008000; text-decoration-color: #008000\">\"credit\"</span>: <span style=\"color: #008080; text-decoration-color: #008080; font-weight: bold\">0</span>,\n",
       "        <span style=\"color: #008000; text-decoration-color: #008000\">\"balance\"</span>: <span style=\"color: #008080; text-decoration-color: #008080; font-weight: bold\">4980.65</span>\n",
       "      <span style=\"font-weight: bold\">}</span>\n",
       "    <span style=\"font-weight: bold\">}</span>,\n",
       "    <span style=\"font-weight: bold\">{</span>\n",
       "      <span style=\"color: #008000; text-decoration-color: #008000\">\"transaction_info\"</span>: <span style=\"font-weight: bold\">{</span>\n",
       "        <span style=\"color: #008000; text-decoration-color: #008000\">\"transaction_date\"</span>: <span style=\"color: #008000; text-decoration-color: #008000\">\"2023-07-22\"</span>,\n",
       "        <span style=\"color: #008000; text-decoration-color: #008000\">\"transaction_description\"</span>: <span style=\"color: #008000; text-decoration-color: #008000\">\"ABC*ANYTIME FITNESS\"</span>,\n",
       "        <span style=\"color: #008000; text-decoration-color: #008000\">\"debit\"</span>: <span style=\"color: #008080; text-decoration-color: #008080; font-weight: bold\">28.34</span>,\n",
       "        <span style=\"color: #008000; text-decoration-color: #008000\">\"credit\"</span>: <span style=\"color: #008080; text-decoration-color: #008080; font-weight: bold\">0</span>,\n",
       "        <span style=\"color: #008000; text-decoration-color: #008000\">\"balance\"</span>: <span style=\"color: #008080; text-decoration-color: #008080; font-weight: bold\">4909.53</span>\n",
       "      <span style=\"font-weight: bold\">}</span>\n",
       "    <span style=\"font-weight: bold\">}</span>,\n",
       "    <span style=\"font-weight: bold\">{</span>\n",
       "      <span style=\"color: #008000; text-decoration-color: #008000\">\"transaction_info\"</span>: <span style=\"font-weight: bold\">{</span>\n",
       "        <span style=\"color: #008000; text-decoration-color: #008000\">\"transaction_date\"</span>: <span style=\"color: #008000; text-decoration-color: #008000\">\"2023-07-21\"</span>,\n",
       "        <span style=\"color: #008000; text-decoration-color: #008000\">\"transaction_description\"</span>: <span style=\"color: #008000; text-decoration-color: #008000\">\"RING MULTICAM MTH PLAN\"</span>,\n",
       "        <span style=\"color: #008000; text-decoration-color: #008000\">\"debit\"</span>: <span style=\"color: #008080; text-decoration-color: #008080; font-weight: bold\">15.75</span>,\n",
       "        <span style=\"color: #008000; text-decoration-color: #008000\">\"credit\"</span>: <span style=\"color: #008080; text-decoration-color: #008080; font-weight: bold\">0</span>,\n",
       "        <span style=\"color: #008000; text-decoration-color: #008000\">\"balance\"</span>: <span style=\"color: #008080; text-decoration-color: #008080; font-weight: bold\">4881.19</span>\n",
       "      <span style=\"font-weight: bold\">}</span>\n",
       "    <span style=\"font-weight: bold\">}</span>,\n",
       "    <span style=\"font-weight: bold\">{</span>\n",
       "      <span style=\"color: #008000; text-decoration-color: #008000\">\"transaction_info\"</span>: <span style=\"font-weight: bold\">{</span>\n",
       "        <span style=\"color: #008000; text-decoration-color: #008000\">\"transaction_date\"</span>: <span style=\"color: #008000; text-decoration-color: #008000\">\"2023-07-19\"</span>,\n",
       "        <span style=\"color: #008000; text-decoration-color: #008000\">\"transaction_description\"</span>: <span style=\"color: #008000; text-decoration-color: #008000\">\"DOORDASH*LUNA MEXICAN\"</span>,\n",
       "        <span style=\"color: #008000; text-decoration-color: #008000\">\"debit\"</span>: <span style=\"color: #008080; text-decoration-color: #008080; font-weight: bold\">130.82</span>,\n",
       "        <span style=\"color: #008000; text-decoration-color: #008000\">\"credit\"</span>: <span style=\"color: #008080; text-decoration-color: #008080; font-weight: bold\">0</span>,\n",
       "        <span style=\"color: #008000; text-decoration-color: #008000\">\"balance\"</span>: <span style=\"color: #008080; text-decoration-color: #008080; font-weight: bold\">4865.44</span>\n",
       "      <span style=\"font-weight: bold\">}</span>\n",
       "    <span style=\"font-weight: bold\">}</span>,\n",
       "    <span style=\"font-weight: bold\">{</span>\n",
       "      <span style=\"color: #008000; text-decoration-color: #008000\">\"transaction_info\"</span>: <span style=\"font-weight: bold\">{</span>\n",
       "        <span style=\"color: #008000; text-decoration-color: #008000\">\"transaction_date\"</span>: <span style=\"color: #008000; text-decoration-color: #008000\">\"2023-07-15\"</span>,\n",
       "        <span style=\"color: #008000; text-decoration-color: #008000\">\"transaction_description\"</span>: <span style=\"color: #008000; text-decoration-color: #008000\">\"AMZN Mktp CA*F307K57V3\"</span>,\n",
       "        <span style=\"color: #008000; text-decoration-color: #008000\">\"debit\"</span>: <span style=\"color: #008080; text-decoration-color: #008080; font-weight: bold\">39.86</span>,\n",
       "        <span style=\"color: #008000; text-decoration-color: #008000\">\"credit\"</span>: <span style=\"color: #008080; text-decoration-color: #008080; font-weight: bold\">0</span>,\n",
       "        <span style=\"color: #008000; text-decoration-color: #008000\">\"balance\"</span>: <span style=\"color: #008080; text-decoration-color: #008080; font-weight: bold\">4315.77</span>\n",
       "      <span style=\"font-weight: bold\">}</span>\n",
       "    <span style=\"font-weight: bold\">}</span>,\n",
       "    <span style=\"font-weight: bold\">{</span>\n",
       "      <span style=\"color: #008000; text-decoration-color: #008000\">\"transaction_info\"</span>: <span style=\"font-weight: bold\">{</span>\n",
       "        <span style=\"color: #008000; text-decoration-color: #008000\">\"transaction_date\"</span>: <span style=\"color: #008000; text-decoration-color: #008000\">\"2023-07-14\"</span>,\n",
       "        <span style=\"color: #008000; text-decoration-color: #008000\">\"transaction_description\"</span>: <span style=\"color: #008000; text-decoration-color: #008000\">\"AMZN Mktp CA*WV57D4SK3\"</span>,\n",
       "        <span style=\"color: #008000; text-decoration-color: #008000\">\"debit\"</span>: <span style=\"color: #008080; text-decoration-color: #008080; font-weight: bold\">33.59</span>,\n",
       "        <span style=\"color: #008000; text-decoration-color: #008000\">\"credit\"</span>: <span style=\"color: #008080; text-decoration-color: #008080; font-weight: bold\">0</span>,\n",
       "        <span style=\"color: #008000; text-decoration-color: #008000\">\"balance\"</span>: <span style=\"color: #008080; text-decoration-color: #008080; font-weight: bold\">4275.91</span>\n",
       "      <span style=\"font-weight: bold\">}</span>\n",
       "    <span style=\"font-weight: bold\">}</span>,\n",
       "    <span style=\"font-weight: bold\">{</span>\n",
       "      <span style=\"color: #008000; text-decoration-color: #008000\">\"transaction_info\"</span>: <span style=\"font-weight: bold\">{</span>\n",
       "        <span style=\"color: #008000; text-decoration-color: #008000\">\"transaction_date\"</span>: <span style=\"color: #008000; text-decoration-color: #008000\">\"2023-07-13\"</span>,\n",
       "        <span style=\"color: #008000; text-decoration-color: #008000\">\"transaction_description\"</span>: <span style=\"color: #008000; text-decoration-color: #008000\">\"adidas 2021 Edmonton\"</span>,\n",
       "        <span style=\"color: #008000; text-decoration-color: #008000\">\"debit\"</span>: <span style=\"color: #008080; text-decoration-color: #008080; font-weight: bold\">90.32</span>,\n",
       "        <span style=\"color: #008000; text-decoration-color: #008000\">\"credit\"</span>: <span style=\"color: #008080; text-decoration-color: #008080; font-weight: bold\">0</span>,\n",
       "        <span style=\"color: #008000; text-decoration-color: #008000\">\"balance\"</span>: <span style=\"color: #008080; text-decoration-color: #008080; font-weight: bold\">3242.59</span>\n",
       "      <span style=\"font-weight: bold\">}</span>\n",
       "    <span style=\"font-weight: bold\">}</span>,\n",
       "    <span style=\"font-weight: bold\">{</span>\n",
       "      <span style=\"color: #008000; text-decoration-color: #008000\">\"transaction_info\"</span>: <span style=\"font-weight: bold\">{</span>\n",
       "        <span style=\"color: #008000; text-decoration-color: #008000\">\"transaction_date\"</span>: <span style=\"color: #008000; text-decoration-color: #008000\">\"2023-07-12\"</span>,\n",
       "        <span style=\"color: #008000; text-decoration-color: #008000\">\"transaction_description\"</span>: <span style=\"color: #008000; text-decoration-color: #008000\">\"NIKE CANADA - EDMONTON\"</span>,\n",
       "        <span style=\"color: #008000; text-decoration-color: #008000\">\"debit\"</span>: <span style=\"color: #008080; text-decoration-color: #008080; font-weight: bold\">580.71</span>,\n",
       "        <span style=\"color: #008000; text-decoration-color: #008000\">\"credit\"</span>: <span style=\"color: #008080; text-decoration-color: #008080; font-weight: bold\">0</span>,\n",
       "        <span style=\"color: #008000; text-decoration-color: #008000\">\"balance\"</span>: <span style=\"color: #008080; text-decoration-color: #008080; font-weight: bold\">3152.27</span>\n",
       "      <span style=\"font-weight: bold\">}</span>\n",
       "    <span style=\"font-weight: bold\">}</span>,\n",
       "    <span style=\"font-weight: bold\">{</span>\n",
       "      <span style=\"color: #008000; text-decoration-color: #008000\">\"transaction_info\"</span>: <span style=\"font-weight: bold\">{</span>\n",
       "        <span style=\"color: #008000; text-decoration-color: #008000\">\"transaction_date\"</span>: <span style=\"color: #008000; text-decoration-color: #008000\">\"2023-07-12\"</span>,\n",
       "        <span style=\"color: #008000; text-decoration-color: #008000\">\"transaction_description\"</span>: <span style=\"color: #008000; text-decoration-color: #008000\">\"GAP OUTLET CA 8893\"</span>,\n",
       "        <span style=\"color: #008000; text-decoration-color: #008000\">\"debit\"</span>: <span style=\"color: #008080; text-decoration-color: #008080; font-weight: bold\">172.73</span>,\n",
       "        <span style=\"color: #008000; text-decoration-color: #008000\">\"credit\"</span>: <span style=\"color: #008080; text-decoration-color: #008080; font-weight: bold\">0</span>,\n",
       "        <span style=\"color: #008000; text-decoration-color: #008000\">\"balance\"</span>: <span style=\"color: #008080; text-decoration-color: #008080; font-weight: bold\">2571.56</span>\n",
       "      <span style=\"font-weight: bold\">}</span>\n",
       "    <span style=\"font-weight: bold\">}</span>,\n",
       "    <span style=\"font-weight: bold\">{</span>\n",
       "      <span style=\"color: #008000; text-decoration-color: #008000\">\"transaction_info\"</span>: <span style=\"font-weight: bold\">{</span>\n",
       "        <span style=\"color: #008000; text-decoration-color: #008000\">\"transaction_date\"</span>: <span style=\"color: #008000; text-decoration-color: #008000\">\"2023-07-10\"</span>,\n",
       "        <span style=\"color: #008000; text-decoration-color: #008000\">\"transaction_description\"</span>: <span style=\"color: #008000; text-decoration-color: #008000\">\"APPLE STORE #R411\"</span>,\n",
       "        <span style=\"color: #008000; text-decoration-color: #008000\">\"debit\"</span>: <span style=\"color: #008080; text-decoration-color: #008080; font-weight: bold\">10</span>,\n",
       "        <span style=\"color: #008000; text-decoration-color: #008000\">\"credit\"</span>: <span style=\"color: #008080; text-decoration-color: #008080; font-weight: bold\">0</span>,\n",
       "        <span style=\"color: #008000; text-decoration-color: #008000\">\"balance\"</span>: <span style=\"color: #008080; text-decoration-color: #008080; font-weight: bold\">2398.83</span>\n",
       "      <span style=\"font-weight: bold\">}</span>\n",
       "    <span style=\"font-weight: bold\">}</span>\n",
       "  <span style=\"font-weight: bold\">]</span>\n",
       "<span style=\"font-weight: bold\">}</span>\n",
       "</pre>\n"
      ],
      "text/plain": [
       "\u001b[1m{\u001b[0m\n",
       "  \u001b[32m\"transaction_list\"\u001b[0m: \u001b[1m[\u001b[0m\n",
       "    \u001b[1m{\u001b[0m\n",
       "      \u001b[32m\"transaction_info\"\u001b[0m: \u001b[1m{\u001b[0m\n",
       "        \u001b[32m\"transaction_date\"\u001b[0m: \u001b[32m\"2023-07-22\"\u001b[0m,\n",
       "        \u001b[32m\"transaction_description\"\u001b[0m: \u001b[32m\"AMZ*Sleepsheep Direct\"\u001b[0m,\n",
       "        \u001b[32m\"debit\"\u001b[0m: \u001b[1;36m141.75\u001b[0m,\n",
       "        \u001b[32m\"credit\"\u001b[0m: \u001b[1;36m0\u001b[0m,\n",
       "        \u001b[32m\"balance\"\u001b[0m: \u001b[1;36m4838.9\u001b[0m\n",
       "      \u001b[1m}\u001b[0m\n",
       "    \u001b[1m}\u001b[0m,\n",
       "    \u001b[1m{\u001b[0m\n",
       "      \u001b[32m\"transaction_info\"\u001b[0m: \u001b[1m{\u001b[0m\n",
       "        \u001b[32m\"transaction_date\"\u001b[0m: \u001b[32m\"2023-07-22\"\u001b[0m,\n",
       "        \u001b[32m\"transaction_description\"\u001b[0m: \u001b[32m\"FIVE GUYS BURGERS & FR\"\u001b[0m,\n",
       "        \u001b[32m\"debit\"\u001b[0m: \u001b[1;36m71.12\u001b[0m,\n",
       "        \u001b[32m\"credit\"\u001b[0m: \u001b[1;36m0\u001b[0m,\n",
       "        \u001b[32m\"balance\"\u001b[0m: \u001b[1;36m4980.65\u001b[0m\n",
       "      \u001b[1m}\u001b[0m\n",
       "    \u001b[1m}\u001b[0m,\n",
       "    \u001b[1m{\u001b[0m\n",
       "      \u001b[32m\"transaction_info\"\u001b[0m: \u001b[1m{\u001b[0m\n",
       "        \u001b[32m\"transaction_date\"\u001b[0m: \u001b[32m\"2023-07-22\"\u001b[0m,\n",
       "        \u001b[32m\"transaction_description\"\u001b[0m: \u001b[32m\"ABC*ANYTIME FITNESS\"\u001b[0m,\n",
       "        \u001b[32m\"debit\"\u001b[0m: \u001b[1;36m28.34\u001b[0m,\n",
       "        \u001b[32m\"credit\"\u001b[0m: \u001b[1;36m0\u001b[0m,\n",
       "        \u001b[32m\"balance\"\u001b[0m: \u001b[1;36m4909.53\u001b[0m\n",
       "      \u001b[1m}\u001b[0m\n",
       "    \u001b[1m}\u001b[0m,\n",
       "    \u001b[1m{\u001b[0m\n",
       "      \u001b[32m\"transaction_info\"\u001b[0m: \u001b[1m{\u001b[0m\n",
       "        \u001b[32m\"transaction_date\"\u001b[0m: \u001b[32m\"2023-07-21\"\u001b[0m,\n",
       "        \u001b[32m\"transaction_description\"\u001b[0m: \u001b[32m\"RING MULTICAM MTH PLAN\"\u001b[0m,\n",
       "        \u001b[32m\"debit\"\u001b[0m: \u001b[1;36m15.75\u001b[0m,\n",
       "        \u001b[32m\"credit\"\u001b[0m: \u001b[1;36m0\u001b[0m,\n",
       "        \u001b[32m\"balance\"\u001b[0m: \u001b[1;36m4881.19\u001b[0m\n",
       "      \u001b[1m}\u001b[0m\n",
       "    \u001b[1m}\u001b[0m,\n",
       "    \u001b[1m{\u001b[0m\n",
       "      \u001b[32m\"transaction_info\"\u001b[0m: \u001b[1m{\u001b[0m\n",
       "        \u001b[32m\"transaction_date\"\u001b[0m: \u001b[32m\"2023-07-19\"\u001b[0m,\n",
       "        \u001b[32m\"transaction_description\"\u001b[0m: \u001b[32m\"DOORDASH*LUNA MEXICAN\"\u001b[0m,\n",
       "        \u001b[32m\"debit\"\u001b[0m: \u001b[1;36m130.82\u001b[0m,\n",
       "        \u001b[32m\"credit\"\u001b[0m: \u001b[1;36m0\u001b[0m,\n",
       "        \u001b[32m\"balance\"\u001b[0m: \u001b[1;36m4865.44\u001b[0m\n",
       "      \u001b[1m}\u001b[0m\n",
       "    \u001b[1m}\u001b[0m,\n",
       "    \u001b[1m{\u001b[0m\n",
       "      \u001b[32m\"transaction_info\"\u001b[0m: \u001b[1m{\u001b[0m\n",
       "        \u001b[32m\"transaction_date\"\u001b[0m: \u001b[32m\"2023-07-15\"\u001b[0m,\n",
       "        \u001b[32m\"transaction_description\"\u001b[0m: \u001b[32m\"AMZN Mktp CA*F307K57V3\"\u001b[0m,\n",
       "        \u001b[32m\"debit\"\u001b[0m: \u001b[1;36m39.86\u001b[0m,\n",
       "        \u001b[32m\"credit\"\u001b[0m: \u001b[1;36m0\u001b[0m,\n",
       "        \u001b[32m\"balance\"\u001b[0m: \u001b[1;36m4315.77\u001b[0m\n",
       "      \u001b[1m}\u001b[0m\n",
       "    \u001b[1m}\u001b[0m,\n",
       "    \u001b[1m{\u001b[0m\n",
       "      \u001b[32m\"transaction_info\"\u001b[0m: \u001b[1m{\u001b[0m\n",
       "        \u001b[32m\"transaction_date\"\u001b[0m: \u001b[32m\"2023-07-14\"\u001b[0m,\n",
       "        \u001b[32m\"transaction_description\"\u001b[0m: \u001b[32m\"AMZN Mktp CA*WV57D4SK3\"\u001b[0m,\n",
       "        \u001b[32m\"debit\"\u001b[0m: \u001b[1;36m33.59\u001b[0m,\n",
       "        \u001b[32m\"credit\"\u001b[0m: \u001b[1;36m0\u001b[0m,\n",
       "        \u001b[32m\"balance\"\u001b[0m: \u001b[1;36m4275.91\u001b[0m\n",
       "      \u001b[1m}\u001b[0m\n",
       "    \u001b[1m}\u001b[0m,\n",
       "    \u001b[1m{\u001b[0m\n",
       "      \u001b[32m\"transaction_info\"\u001b[0m: \u001b[1m{\u001b[0m\n",
       "        \u001b[32m\"transaction_date\"\u001b[0m: \u001b[32m\"2023-07-13\"\u001b[0m,\n",
       "        \u001b[32m\"transaction_description\"\u001b[0m: \u001b[32m\"adidas 2021 Edmonton\"\u001b[0m,\n",
       "        \u001b[32m\"debit\"\u001b[0m: \u001b[1;36m90.32\u001b[0m,\n",
       "        \u001b[32m\"credit\"\u001b[0m: \u001b[1;36m0\u001b[0m,\n",
       "        \u001b[32m\"balance\"\u001b[0m: \u001b[1;36m3242.59\u001b[0m\n",
       "      \u001b[1m}\u001b[0m\n",
       "    \u001b[1m}\u001b[0m,\n",
       "    \u001b[1m{\u001b[0m\n",
       "      \u001b[32m\"transaction_info\"\u001b[0m: \u001b[1m{\u001b[0m\n",
       "        \u001b[32m\"transaction_date\"\u001b[0m: \u001b[32m\"2023-07-12\"\u001b[0m,\n",
       "        \u001b[32m\"transaction_description\"\u001b[0m: \u001b[32m\"NIKE CANADA - EDMONTON\"\u001b[0m,\n",
       "        \u001b[32m\"debit\"\u001b[0m: \u001b[1;36m580.71\u001b[0m,\n",
       "        \u001b[32m\"credit\"\u001b[0m: \u001b[1;36m0\u001b[0m,\n",
       "        \u001b[32m\"balance\"\u001b[0m: \u001b[1;36m3152.27\u001b[0m\n",
       "      \u001b[1m}\u001b[0m\n",
       "    \u001b[1m}\u001b[0m,\n",
       "    \u001b[1m{\u001b[0m\n",
       "      \u001b[32m\"transaction_info\"\u001b[0m: \u001b[1m{\u001b[0m\n",
       "        \u001b[32m\"transaction_date\"\u001b[0m: \u001b[32m\"2023-07-12\"\u001b[0m,\n",
       "        \u001b[32m\"transaction_description\"\u001b[0m: \u001b[32m\"GAP OUTLET CA 8893\"\u001b[0m,\n",
       "        \u001b[32m\"debit\"\u001b[0m: \u001b[1;36m172.73\u001b[0m,\n",
       "        \u001b[32m\"credit\"\u001b[0m: \u001b[1;36m0\u001b[0m,\n",
       "        \u001b[32m\"balance\"\u001b[0m: \u001b[1;36m2571.56\u001b[0m\n",
       "      \u001b[1m}\u001b[0m\n",
       "    \u001b[1m}\u001b[0m,\n",
       "    \u001b[1m{\u001b[0m\n",
       "      \u001b[32m\"transaction_info\"\u001b[0m: \u001b[1m{\u001b[0m\n",
       "        \u001b[32m\"transaction_date\"\u001b[0m: \u001b[32m\"2023-07-10\"\u001b[0m,\n",
       "        \u001b[32m\"transaction_description\"\u001b[0m: \u001b[32m\"APPLE STORE #R411\"\u001b[0m,\n",
       "        \u001b[32m\"debit\"\u001b[0m: \u001b[1;36m10\u001b[0m,\n",
       "        \u001b[32m\"credit\"\u001b[0m: \u001b[1;36m0\u001b[0m,\n",
       "        \u001b[32m\"balance\"\u001b[0m: \u001b[1;36m2398.83\u001b[0m\n",
       "      \u001b[1m}\u001b[0m\n",
       "    \u001b[1m}\u001b[0m\n",
       "  \u001b[1m]\u001b[0m\n",
       "\u001b[1m}\u001b[0m\n"
      ]
     },
     "metadata": {},
     "output_type": "display_data"
    }
   ],
   "source": [
    "import guardrails as gd\n",
    "from guardrails_specs.specs import rail_str\n",
    "\n",
    "guard = gd.Guard.from_rail_string(rail_str)\n",
    "\n",
    "new_llm_call_all = tp.get_guard_chat_completion(input=tp.transaction_string, guard=guard, token_number=2000)\n",
    "\n",
    "rprint(tp.last_raw_response_from_guard_completion)"
   ]
  },
  {
   "cell_type": "code",
   "execution_count": 9,
   "metadata": {},
   "outputs": [
    {
     "data": {
      "text/plain": [
       "737"
      ]
     },
     "execution_count": 9,
     "metadata": {},
     "output_type": "execute_result"
    }
   ],
   "source": [
    "tp.token_validator.get_token_count(input=tp.last_raw_response_from_guard_completion)"
   ]
  },
  {
   "cell_type": "code",
   "execution_count": 13,
   "metadata": {},
   "outputs": [
    {
     "ename": "AttributeError",
     "evalue": "'TransactionParser' object has no attribute 'last_response_chat_completion'",
     "output_type": "error",
     "traceback": [
      "\u001b[0;31m---------------------------------------------------------------------------\u001b[0m",
      "\u001b[0;31mAttributeError\u001b[0m                            Traceback (most recent call last)",
      "Cell \u001b[0;32mIn[13], line 2\u001b[0m\n\u001b[1;32m      1\u001b[0m tp\u001b[39m.\u001b[39mget_chat_completion(prompt\u001b[39m=\u001b[39mguard\u001b[39m.\u001b[39mprompt\u001b[39m.\u001b[39mformat(\u001b[39m*\u001b[39m\u001b[39m*\u001b[39m{\u001b[39m'\u001b[39m\u001b[39mtransaction_string\u001b[39m\u001b[39m'\u001b[39m: test_str})\u001b[39m.\u001b[39msource)\n\u001b[0;32m----> 2\u001b[0m rprint(tp\u001b[39m.\u001b[39;49mlast_response_chat_completion)\n",
      "\u001b[0;31mAttributeError\u001b[0m: 'TransactionParser' object has no attribute 'last_response_chat_completion'"
     ]
    }
   ],
   "source": [
    "tp.get_chat_completion(prompt=guard.prompt.format(**{'transaction_string': test_str}).source)\n",
    "rprint(tp.last_response_chat_completion)"
   ]
  },
  {
   "cell_type": "markdown",
   "metadata": {},
   "source": [
    "### Generating transactions categories"
   ]
  },
  {
   "cell_type": "code",
   "execution_count": null,
   "metadata": {},
   "outputs": [],
   "source": [
    "%%time\n",
    "cats = tp.generate_transaction_categories()\n"
   ]
  },
  {
   "cell_type": "markdown",
   "metadata": {},
   "source": [
    "### Clustering transactions names"
   ]
  },
  {
   "cell_type": "code",
   "execution_count": null,
   "metadata": {},
   "outputs": [],
   "source": [
    "%%time\n",
    "new_trans = tp.get_transaction_names(new_transactions=pd.DataFrame(parsed_transactions), older_transactions=pd.DataFrame())"
   ]
  },
  {
   "cell_type": "code",
   "execution_count": null,
   "metadata": {},
   "outputs": [],
   "source": []
  },
  {
   "cell_type": "code",
   "execution_count": null,
   "metadata": {},
   "outputs": [],
   "source": []
  },
  {
   "cell_type": "code",
   "execution_count": null,
   "metadata": {},
   "outputs": [],
   "source": []
  },
  {
   "cell_type": "code",
   "execution_count": null,
   "metadata": {},
   "outputs": [],
   "source": []
  }
 ],
 "metadata": {
  "kernelspec": {
   "display_name": "Python 3",
   "language": "python",
   "name": "python3"
  },
  "language_info": {
   "codemirror_mode": {
    "name": "ipython",
    "version": 3
   },
   "file_extension": ".py",
   "mimetype": "text/x-python",
   "name": "python",
   "nbconvert_exporter": "python",
   "pygments_lexer": "ipython3",
   "version": "3.11.4"
  },
  "orig_nbformat": 4
 },
 "nbformat": 4,
 "nbformat_minor": 2
}
